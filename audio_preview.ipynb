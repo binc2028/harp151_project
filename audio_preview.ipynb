{
 "cells": [
  {
   "cell_type": "code",
   "execution_count": 2,
   "id": "370371d3",
   "metadata": {},
   "outputs": [
    {
     "name": "stdout",
     "output_type": "stream",
     "text": [
      "Please enter a decade you would like a song from: 2000\n",
      "Uptown Funk (feat. Bruno Mars)\n",
      "https://p.scdn.co/mp3-preview/3074e956e6794c0eadea660b9cef671db6b27234?cid=2920ec1af7074a2f96e859b0246257f3.wav\n"
     ]
    },
    {
     "data": {
      "text/html": [
       "\n",
       "                <audio  controls=\"controls\" >\n",
       "                    <source src=\"https://p.scdn.co/mp3-preview/3074e956e6794c0eadea660b9cef671db6b27234?cid=2920ec1af7074a2f96e859b0246257f3.wav\" type=\"audio/wav\" />\n",
       "                    Your browser does not support the audio element.\n",
       "                </audio>\n",
       "              "
      ],
      "text/plain": [
       "<IPython.lib.display.Audio object>"
      ]
     },
     "metadata": {},
     "output_type": "display_data"
    }
   ],
   "source": [
    "from IPython.display import Audio\n",
    "import random\n",
    "\n",
    "\n",
    "#https://spotipy.readthedocs.io/en/2.22.1/\n",
    "\n",
    "# Import libraries\n",
    "import spotipy\n",
    "import json\n",
    "from spotipy.oauth2 import SpotifyClientCredentials\n",
    "import requests\n",
    "import pandas as pd\n",
    "from tqdm import tqdm\n",
    "import time\n",
    "\n",
    "\n",
    "#Required credentials\n",
    "#Spotify Developer credentials from developers.spotify.com\n",
    "client_id = '2920ec1af7074a2f96e859b0246257f3'\n",
    "client_secret = 'c986a95cc7f54a9a869ca9969eff9459'\n",
    "redirect_uri = 'http://localhost:8888/callback/' #Not using this though \n",
    "\n",
    "#Authenticate with Spotify\n",
    "client_credentials_manager = SpotifyClientCredentials(client_id=client_id, client_secret=client_secret)\n",
    "sp = spotipy.Spotify(client_credentials_manager=client_credentials_manager)\n",
    "\n",
    "\n",
    "\n",
    "\n",
    "def get_random_song_from_decade():\n",
    "    keyword = str(input(\"Please enter a decade you would like a song from: \"))\n",
    "    results = sp.search(q=keyword, type='playlist', limit=1)\n",
    "    playlist_id = results['playlists']['items'][0]['id']\n",
    "\n",
    "    results1 = sp.playlist(playlist_id)\n",
    "    results2 = results1['tracks']['items']\n",
    "\n",
    "    dic = {}\n",
    "\n",
    "    for i in results2:\n",
    "        song = i['track']['name']\n",
    "        preview = i['track']['preview_url']\n",
    "        if preview and not preview.endswith('.wav'):\n",
    "            preview += '.wav'\n",
    "        dic[song] = preview\n",
    "\n",
    "    song_name, song_preview = random.choice(list(dic.items()))\n",
    "\n",
    "    if song_preview is None:\n",
    "        print(song_name)\n",
    "        print(\"No preview was found for this song\")\n",
    "    else:\n",
    "        print(song_name)\n",
    "        print(song_preview)\n",
    "        display(Audio(url=song_preview))\n",
    "\n",
    "get_random_song_from_decade()\n"
   ]
  }
 ],
 "metadata": {
  "kernelspec": {
   "display_name": "Python 3 (ipykernel)",
   "language": "python",
   "name": "python3"
  },
  "language_info": {
   "codemirror_mode": {
    "name": "ipython",
    "version": 3
   },
   "file_extension": ".py",
   "mimetype": "text/x-python",
   "name": "python",
   "nbconvert_exporter": "python",
   "pygments_lexer": "ipython3",
   "version": "3.9.12"
  }
 },
 "nbformat": 4,
 "nbformat_minor": 5
}
