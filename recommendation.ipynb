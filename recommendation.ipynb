{
 "cells": [
  {
   "cell_type": "code",
   "execution_count": null,
   "id": "e86b3025",
   "metadata": {},
   "outputs": [],
   "source": [
    "#https://spotipy.readthedocs.io/en/2.22.1/\n",
    "\n",
    "# Import libraries\n",
    "import spotipy\n",
    "import json\n",
    "from spotipy.oauth2 import SpotifyClientCredentials\n",
    "import requests\n",
    "import pandas as pd\n",
    "from tqdm import tqdm\n",
    "import time\n",
    "\n",
    "\n",
    "#Required credentials\n",
    "#Spotify Developer credentials from developers.spotify.com\n",
    "client_id = '2920ec1af7074a2f96e859b0246257f3'\n",
    "client_secret = 'c986a95cc7f54a9a869ca9969eff9459'\n",
    "redirect_uri = 'http://localhost:8888/callback/' #Not using this though \n",
    "\n",
    "#Authenticate with Spotify\n",
    "client_credentials_manager = SpotifyClientCredentials(client_id=client_id, client_secret=client_secret)\n",
    "sp = spotipy.Spotify(client_credentials_manager=client_credentials_manager)\n",
    "\n",
    "#Get all genres\n",
    "genres = sp.recommendation_genre_seeds()\n",
    "\n",
    "print(genres)\n",
    "\n",
    "#Testing recommendations using genres\n",
    "#rec = sp.recommendations(seed_genres=['acoustic'], limit=10)\n",
    "#rec = sp.recommendations(seed_genres=['pop', 'hip-hop'], limit=10)\n",
    "\n",
    "#Testing recommendations using url\n",
    "rec = sp.recommendations(seed_artists=['https://open.spotify.com/artist/4iBwchw0U0GZv5RfVYSMxN'], limit=20)\n",
    "\n",
    "#print(rec)\n",
    "## Get 10 recommended tracks based on seed genres and target danceability\n",
    "\n",
    "# Print the name and artist of each track\n",
    "for track in rec['tracks']:\n",
    "    print(track['name'], ' - ', track['artists'][0]['name'])"
   ]
  }
 ],
 "metadata": {
  "kernelspec": {
   "display_name": "Python 3 (ipykernel)",
   "language": "python",
   "name": "python3"
  },
  "language_info": {
   "codemirror_mode": {
    "name": "ipython",
    "version": 3
   },
   "file_extension": ".py",
   "mimetype": "text/x-python",
   "name": "python",
   "nbconvert_exporter": "python",
   "pygments_lexer": "ipython3",
   "version": "3.9.12"
  }
 },
 "nbformat": 4,
 "nbformat_minor": 5
}
