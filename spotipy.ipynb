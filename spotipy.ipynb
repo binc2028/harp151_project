{
 "cells": [
  {
   "cell_type": "code",
   "execution_count": 14,
   "id": "f76a684b",
   "metadata": {},
   "outputs": [],
   "source": [
    "#https://spotipy.readthedocs.io/en/2.22.1/\n",
    "\n",
    "# Import libraries\n",
    "import spotipy\n",
    "import json\n",
    "from spotipy.oauth2 import SpotifyClientCredentials\n",
    "\n",
    "#Required credentials\n",
    "#Spotify Developer credentials from developers.spotify.com\n",
    "client_id = 'bd5bc626792545b99e2ff864645a54a0'\n",
    "client_secret = 'afb7a592703b47eda758246b3de2b577'\n",
    "redirect_uri = 'http://localhost:8888/callback/' #Not using this though \n",
    "\n",
    "#Authenticate with Spotify\n",
    "client_credentials_manager = SpotifyClientCredentials(client_id=client_id, client_secret=client_secret)\n",
    "sp = spotipy.Spotify(client_credentials_manager=client_credentials_manager)\n"
   ]
  },
  {
   "cell_type": "code",
   "execution_count": 73,
   "id": "b3f9d076",
   "metadata": {},
   "outputs": [
    {
     "name": "stdout",
     "output_type": "stream",
     "text": [
      "Please enter the artist ID3c06rwhV9teHblfhGaUqdp\n",
      "The name of this artist is Maru Gomes\n"
     ]
    }
   ],
   "source": [
    "#1\n",
    "#Search an artist based on artist ID\n",
    "#Example: here I used an artist called Maru Gomes\n",
    "#It will output artist name\n",
    "#(This is not  convenient since user is required to know ID)\n",
    "\n",
    "def find_artist_w_id_name():\n",
    "    artist_id = str(input(\"Please enter the artist ID\"))\n",
    "    #artist_id = '3c06rwhV9teHblfhGaUqdp'\n",
    "    artist = sp.artist(artist_id)\n",
    "    print(\"The name of this artist is \" + artist['name'])\n",
    "    \n",
    "find_artist_w_id_name()"
   ]
  },
  {
   "cell_type": "code",
   "execution_count": 74,
   "id": "e26aea94",
   "metadata": {},
   "outputs": [
    {
     "name": "stdout",
     "output_type": "stream",
     "text": [
      "Please enter the artist ID3c06rwhV9teHblfhGaUqdp\n",
      "There are 245 followers\n"
     ]
    }
   ],
   "source": [
    "#2 find amount of followers\n",
    "def find_artist_w_id_followers():\n",
    "    artist_id = str(input(\"Please enter the artist ID\"))\n",
    "    #artist_id = '3c06rwhV9teHblfhGaUqdp'\n",
    "    artist = sp.artist(artist_id)\n",
    "    print(\"There are \" + str(artist['followers']['total']) + \" followers\"  )\n",
    "    \n",
    "find_artist_w_id_followers()"
   ]
  },
  {
   "cell_type": "code",
   "execution_count": 75,
   "id": "20060206",
   "metadata": {},
   "outputs": [],
   "source": [
    "from IPython import display\n",
    "from PIL import Image\n",
    "import requests"
   ]
  },
  {
   "cell_type": "code",
   "execution_count": 77,
   "id": "4e231152",
   "metadata": {},
   "outputs": [
    {
     "name": "stdout",
     "output_type": "stream",
     "text": [
      "Please enter the artist ID3c06rwhV9teHblfhGaUqdp\n",
      "https://i.scdn.co/image/ab67616d0000b273c9e967e14d584cbdc2cdbe01\n"
     ]
    }
   ],
   "source": [
    "#3 This function will print the artist's profile image also download it locally\n",
    "def find_artist_profile_image():\n",
    "    artist_id = str(input(\"Please enter the artist ID\"))\n",
    "    #artist_id = '3c06rwhV9teHblfhGaUqdp'\n",
    "    artist = sp.artist(artist_id)\n",
    "    img_url = artist['images'][0]['url']\n",
    "    print(img_url)\n",
    "    response = requests.get(img_url)\n",
    "    with open(\"artist_image.jpg\", \"wb\") as f:\n",
    "        f.write(response.content) #Save the profile image locally.\n",
    "    \n",
    "find_artist_profile_image()"
   ]
  },
  {
   "cell_type": "code",
   "execution_count": 67,
   "id": "b244deec",
   "metadata": {},
   "outputs": [
    {
     "name": "stdout",
     "output_type": "stream",
     "text": [
      "Please enter the artist ID3c06rwhV9teHblfhGaUqdp\n",
      "Amalgam\n",
      "1897\n",
      "Renaissance\n",
      "Esthetic\n",
      "Botanical\n",
      "Verba Aymara\n",
      "Pagodes\n",
      "Cashmere\n",
      "Crossroad\n",
      "Candela\n"
     ]
    }
   ],
   "source": [
    "#4 This function will output the most popular songs of an artist(by id)\n",
    "def top_tracks(): \n",
    "    artist_id = str(input(\"Please enter the artist ID\"))\n",
    "    #artist_id = '3c06rwhV9teHblfhGaUqdp'\n",
    "    top_tracks = sp.artist_top_tracks(artist_id)\n",
    "    for track in top_tracks['tracks']:\n",
    "        print(track['name'])\n",
    "        \n",
    "top_tracks()"
   ]
  },
  {
   "cell_type": "code",
   "execution_count": 71,
   "id": "07ec345b",
   "metadata": {
    "scrolled": true
   },
   "outputs": [
    {
     "name": "stdout",
     "output_type": "stream",
     "text": [
      "Please enter some keywords to search trackslove\n",
      "Lovers Rock\n",
      "Love\n",
      "Love You Anyway\n",
      "Love Sosa\n",
      "LOVE. FEAT. ZACARI.\n",
      "Love Story\n",
      "Love Again\n",
      "Love Me\n",
      "Love On The Brain\n",
      "Lover\n"
     ]
    }
   ],
   "source": [
    "#5 This function will search tracks based on your input\n",
    "\n",
    "def search_w_input():\n",
    "    keyword = str(input(\"Please enter some keywords to search tracks\"))\n",
    "    results = sp.search(q=keyword, type='track', limit=10)\n",
    "    for track in results['tracks']['items']:\n",
    "        print(track['name'])\n",
    "    \n",
    "search_w_input()"
   ]
  }
 ],
 "metadata": {
  "kernelspec": {
   "display_name": "Python 3 (ipykernel)",
   "language": "python",
   "name": "python3"
  },
  "language_info": {
   "codemirror_mode": {
    "name": "ipython",
    "version": 3
   },
   "file_extension": ".py",
   "mimetype": "text/x-python",
   "name": "python",
   "nbconvert_exporter": "python",
   "pygments_lexer": "ipython3",
   "version": "3.9.13"
  }
 },
 "nbformat": 4,
 "nbformat_minor": 5
}
